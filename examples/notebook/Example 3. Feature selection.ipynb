{
 "cells": [
  {
   "cell_type": "markdown",
   "id": "6cebfc13",
   "metadata": {},
   "source": [
    "Problem: Friedman-1 regression\n",
    "\n",
    "__\\<INCLUDE FORMULA\\>__\n",
    "\n",
    "Description: Page 207 DEAP"
   ]
  },
  {
   "cell_type": "code",
   "execution_count": 1,
   "id": "fb25ec79",
   "metadata": {
    "ExecuteTime": {
     "end_time": "2022-10-28T11:46:25.017485Z",
     "start_time": "2022-10-28T11:46:24.971608Z"
    }
   },
   "outputs": [],
   "source": [
    "%load_ext autoreload\n",
    "%autoreload 2"
   ]
  },
  {
   "cell_type": "code",
   "execution_count": 2,
   "id": "23e2bffd",
   "metadata": {
    "ExecuteTime": {
     "end_time": "2022-10-28T11:46:26.980083Z",
     "start_time": "2022-10-28T11:46:25.019480Z"
    }
   },
   "outputs": [],
   "source": [
    "import os\n",
    "import sys\n",
    "import pandas as pd\n",
    "import numpy as np\n",
    "import matplotlib.pyplot as plt\n",
    "\n",
    "# used libraries\n",
    "import pandas as pd\n",
    "from sklearn import datasets\n",
    "from sklearn.model_selection import train_test_split\n",
    "from sklearn.svm import SVR\n",
    "from sklearn.neighbors import KNeighborsRegressor\n",
    "\n",
    "\n",
    "sys.path.append(os.path.join('..', '..'))\n",
    "import pywinEA2"
   ]
  },
  {
   "cell_type": "code",
   "execution_count": 3,
   "id": "1afd8908",
   "metadata": {
    "ExecuteTime": {
     "end_time": "2022-10-28T11:46:27.072316Z",
     "start_time": "2022-10-28T11:46:26.982079Z"
    }
   },
   "outputs": [],
   "source": [
    "# genetic algorithm parameters\n",
    "POPULATION_SIZE = 50\n",
    "MAX_GENERATIONS = 50\n",
    "N_RECURSIVE_ITERATIONS = 4\n",
    "OPTIM_SCORE = 'mean_squared_error'\n",
    "OPTIM = 'min'\n",
    "PROB_MUTATION = 0.25\n",
    "PROB_CROSSOVER = 0.75\n",
    "SELECTION_OP = 'tournament'\n",
    "MUTATION_OP = 'bit_flip'\n",
    "\n",
    "# dataset creation parameters\n",
    "N_SAMPLES = 200\n",
    "N_FEATURES = 500\n",
    "NOISE = 0.5\n",
    "\n",
    "# misc\n",
    "SEED = 1997\n"
   ]
  },
  {
   "cell_type": "code",
   "execution_count": 4,
   "id": "5fab5913",
   "metadata": {
    "ExecuteTime": {
     "end_time": "2022-10-28T11:46:27.151888Z",
     "start_time": "2022-10-28T11:46:27.073285Z"
    }
   },
   "outputs": [],
   "source": [
    "def getDataset() -> pd.DataFrame:\n",
    "    \"\"\" Create the testing dataset \"\"\"\n",
    "    X, y = datasets.make_friedman1(\n",
    "        n_samples=N_SAMPLES,\n",
    "        n_features=N_FEATURES,\n",
    "        noise=NOISE,\n",
    "        random_state=SEED)\n",
    "    \n",
    "    X = pd.DataFrame(X, columns=['feat_{}'.format(f) for f in range(X.shape[1])])\n",
    "    y = pd.DataFrame(y, columns=['target'])\n",
    "    data = pd.concat([X, y], axis=1)\n",
    "    \n",
    "    return data"
   ]
  },
  {
   "cell_type": "code",
   "execution_count": 5,
   "id": "55a3d3e6",
   "metadata": {
    "ExecuteTime": {
     "end_time": "2022-10-28T11:46:27.260868Z",
     "start_time": "2022-10-28T11:46:27.152885Z"
    }
   },
   "outputs": [
    {
     "data": {
      "text/html": [
       "<div>\n",
       "<style scoped>\n",
       "    .dataframe tbody tr th:only-of-type {\n",
       "        vertical-align: middle;\n",
       "    }\n",
       "\n",
       "    .dataframe tbody tr th {\n",
       "        vertical-align: top;\n",
       "    }\n",
       "\n",
       "    .dataframe thead th {\n",
       "        text-align: right;\n",
       "    }\n",
       "</style>\n",
       "<table border=\"1\" class=\"dataframe\">\n",
       "  <thead>\n",
       "    <tr style=\"text-align: right;\">\n",
       "      <th></th>\n",
       "      <th>feat_0</th>\n",
       "      <th>feat_1</th>\n",
       "      <th>feat_2</th>\n",
       "      <th>feat_3</th>\n",
       "      <th>feat_4</th>\n",
       "      <th>feat_5</th>\n",
       "      <th>feat_6</th>\n",
       "      <th>feat_7</th>\n",
       "      <th>feat_8</th>\n",
       "      <th>feat_9</th>\n",
       "      <th>...</th>\n",
       "      <th>feat_491</th>\n",
       "      <th>feat_492</th>\n",
       "      <th>feat_493</th>\n",
       "      <th>feat_494</th>\n",
       "      <th>feat_495</th>\n",
       "      <th>feat_496</th>\n",
       "      <th>feat_497</th>\n",
       "      <th>feat_498</th>\n",
       "      <th>feat_499</th>\n",
       "      <th>target</th>\n",
       "    </tr>\n",
       "  </thead>\n",
       "  <tbody>\n",
       "    <tr>\n",
       "      <th>0</th>\n",
       "      <td>0.771148</td>\n",
       "      <td>0.074757</td>\n",
       "      <td>0.526310</td>\n",
       "      <td>0.975088</td>\n",
       "      <td>0.992226</td>\n",
       "      <td>0.465135</td>\n",
       "      <td>0.611135</td>\n",
       "      <td>0.569463</td>\n",
       "      <td>0.667719</td>\n",
       "      <td>0.786780</td>\n",
       "      <td>...</td>\n",
       "      <td>0.802945</td>\n",
       "      <td>0.590838</td>\n",
       "      <td>0.997760</td>\n",
       "      <td>0.690453</td>\n",
       "      <td>0.625186</td>\n",
       "      <td>0.040616</td>\n",
       "      <td>0.574526</td>\n",
       "      <td>0.683321</td>\n",
       "      <td>0.153484</td>\n",
       "      <td>17.082650</td>\n",
       "    </tr>\n",
       "    <tr>\n",
       "      <th>1</th>\n",
       "      <td>0.316546</td>\n",
       "      <td>0.457287</td>\n",
       "      <td>0.721017</td>\n",
       "      <td>0.028663</td>\n",
       "      <td>0.623670</td>\n",
       "      <td>0.936549</td>\n",
       "      <td>0.306067</td>\n",
       "      <td>0.131824</td>\n",
       "      <td>0.609781</td>\n",
       "      <td>0.942532</td>\n",
       "      <td>...</td>\n",
       "      <td>0.550755</td>\n",
       "      <td>0.610305</td>\n",
       "      <td>0.391584</td>\n",
       "      <td>0.658611</td>\n",
       "      <td>0.931838</td>\n",
       "      <td>0.056777</td>\n",
       "      <td>0.056389</td>\n",
       "      <td>0.806717</td>\n",
       "      <td>0.348400</td>\n",
       "      <td>9.319051</td>\n",
       "    </tr>\n",
       "    <tr>\n",
       "      <th>2</th>\n",
       "      <td>0.973977</td>\n",
       "      <td>0.709694</td>\n",
       "      <td>0.964321</td>\n",
       "      <td>0.618567</td>\n",
       "      <td>0.114940</td>\n",
       "      <td>0.978974</td>\n",
       "      <td>0.456353</td>\n",
       "      <td>0.782813</td>\n",
       "      <td>0.876677</td>\n",
       "      <td>0.678804</td>\n",
       "      <td>...</td>\n",
       "      <td>0.942121</td>\n",
       "      <td>0.912058</td>\n",
       "      <td>0.464577</td>\n",
       "      <td>0.054383</td>\n",
       "      <td>0.792397</td>\n",
       "      <td>0.701524</td>\n",
       "      <td>0.514992</td>\n",
       "      <td>0.993746</td>\n",
       "      <td>0.033966</td>\n",
       "      <td>18.692444</td>\n",
       "    </tr>\n",
       "    <tr>\n",
       "      <th>3</th>\n",
       "      <td>0.401484</td>\n",
       "      <td>0.057108</td>\n",
       "      <td>0.925435</td>\n",
       "      <td>0.422867</td>\n",
       "      <td>0.496634</td>\n",
       "      <td>0.769792</td>\n",
       "      <td>0.978067</td>\n",
       "      <td>0.637003</td>\n",
       "      <td>0.091043</td>\n",
       "      <td>0.232143</td>\n",
       "      <td>...</td>\n",
       "      <td>0.090742</td>\n",
       "      <td>0.220962</td>\n",
       "      <td>0.193002</td>\n",
       "      <td>0.703279</td>\n",
       "      <td>0.100004</td>\n",
       "      <td>0.057513</td>\n",
       "      <td>0.394312</td>\n",
       "      <td>0.312684</td>\n",
       "      <td>0.753344</td>\n",
       "      <td>10.495461</td>\n",
       "    </tr>\n",
       "    <tr>\n",
       "      <th>4</th>\n",
       "      <td>0.264394</td>\n",
       "      <td>0.797688</td>\n",
       "      <td>0.669919</td>\n",
       "      <td>0.783029</td>\n",
       "      <td>0.347581</td>\n",
       "      <td>0.336558</td>\n",
       "      <td>0.058779</td>\n",
       "      <td>0.632744</td>\n",
       "      <td>0.720600</td>\n",
       "      <td>0.757688</td>\n",
       "      <td>...</td>\n",
       "      <td>0.012301</td>\n",
       "      <td>0.761392</td>\n",
       "      <td>0.118631</td>\n",
       "      <td>0.719180</td>\n",
       "      <td>0.966833</td>\n",
       "      <td>0.435286</td>\n",
       "      <td>0.154155</td>\n",
       "      <td>0.657826</td>\n",
       "      <td>0.465735</td>\n",
       "      <td>15.647972</td>\n",
       "    </tr>\n",
       "  </tbody>\n",
       "</table>\n",
       "<p>5 rows × 501 columns</p>\n",
       "</div>"
      ],
      "text/plain": [
       "     feat_0    feat_1    feat_2    feat_3    feat_4    feat_5    feat_6  \\\n",
       "0  0.771148  0.074757  0.526310  0.975088  0.992226  0.465135  0.611135   \n",
       "1  0.316546  0.457287  0.721017  0.028663  0.623670  0.936549  0.306067   \n",
       "2  0.973977  0.709694  0.964321  0.618567  0.114940  0.978974  0.456353   \n",
       "3  0.401484  0.057108  0.925435  0.422867  0.496634  0.769792  0.978067   \n",
       "4  0.264394  0.797688  0.669919  0.783029  0.347581  0.336558  0.058779   \n",
       "\n",
       "     feat_7    feat_8    feat_9  ...  feat_491  feat_492  feat_493  feat_494  \\\n",
       "0  0.569463  0.667719  0.786780  ...  0.802945  0.590838  0.997760  0.690453   \n",
       "1  0.131824  0.609781  0.942532  ...  0.550755  0.610305  0.391584  0.658611   \n",
       "2  0.782813  0.876677  0.678804  ...  0.942121  0.912058  0.464577  0.054383   \n",
       "3  0.637003  0.091043  0.232143  ...  0.090742  0.220962  0.193002  0.703279   \n",
       "4  0.632744  0.720600  0.757688  ...  0.012301  0.761392  0.118631  0.719180   \n",
       "\n",
       "   feat_495  feat_496  feat_497  feat_498  feat_499     target  \n",
       "0  0.625186  0.040616  0.574526  0.683321  0.153484  17.082650  \n",
       "1  0.931838  0.056777  0.056389  0.806717  0.348400   9.319051  \n",
       "2  0.792397  0.701524  0.514992  0.993746  0.033966  18.692444  \n",
       "3  0.100004  0.057513  0.394312  0.312684  0.753344  10.495461  \n",
       "4  0.966833  0.435286  0.154155  0.657826  0.465735  15.647972  \n",
       "\n",
       "[5 rows x 501 columns]"
      ]
     },
     "execution_count": 5,
     "metadata": {},
     "output_type": "execute_result"
    }
   ],
   "source": [
    "data = getDataset()\n",
    "data.head(5)"
   ]
  },
  {
   "cell_type": "code",
   "execution_count": 6,
   "id": "863a57b5",
   "metadata": {
    "ExecuteTime": {
     "end_time": "2022-10-28T11:46:27.336668Z",
     "start_time": "2022-10-28T11:46:27.261875Z"
    }
   },
   "outputs": [],
   "source": [
    "# create the model\n",
    "model = KNeighborsRegressor()"
   ]
  },
  {
   "cell_type": "code",
   "execution_count": 7,
   "id": "517ae8d1-1f8f-449b-852f-b939075ef1ac",
   "metadata": {},
   "outputs": [
    {
     "name": "stdout",
     "output_type": "stream",
     "text": [
      "Baseline (all feats) MSE: 15.155\n",
      "Baseline (target feats) MSE: 3.271\n"
     ]
    }
   ],
   "source": [
    "baseline_model = model.fit(data[data.columns.tolist()[:-1]], data['target'])\n",
    "y_pred = baseline_model.predict(data[data.columns.tolist()[:-1]])\n",
    "baseline_mse = np.mean((y_pred - data['target'].values)**2)\n",
    "print('Baseline (all feats) MSE: {:.3f}'.format(baseline_mse))\n",
    "\n",
    "baseline_model = model.fit(data[['feat_%d' % i for i in range(5)]], data['target'])\n",
    "y_pred = baseline_model.predict(data[['feat_%d' % i for i in range(5)]])\n",
    "baseline_mse = np.mean((y_pred - data['target'].values)**2)\n",
    "print('Baseline (target feats) MSE: {:.3f}'.format(baseline_mse))"
   ]
  },
  {
   "cell_type": "code",
   "execution_count": 11,
   "id": "87f9717d-af2d-4a22-a0ab-9b8cc6772010",
   "metadata": {
    "tags": []
   },
   "outputs": [
    {
     "name": "stderr",
     "output_type": "stream",
     "text": [
      "100%|███████████████████████████████████████████████████████████████| 50/50 [00:03<00:00, 12.86it/s]\n"
     ]
    },
    {
     "data": {
      "image/png": "[encoded data removed]",
      "text/plain": [
       "<Figure size 700x400 with 1 Axes>"
      ]
     },
     "metadata": {},
     "output_type": "display_data"
    },
    {
     "name": "stdout",
     "output_type": "stream",
     "text": [
      "(200, 335)\n"
     ]
    },
    {
     "name": "stderr",
     "output_type": "stream",
     "text": [
      "100%|███████████████████████████████████████████████████████████████| 50/50 [00:04<00:00, 12.16it/s]\n"
     ]
    },
    {
     "data": {
      "image/png": "[encoded data removed]",
      "text/plain": [
       "<Figure size 700x400 with 1 Axes>"
      ]
     },
     "metadata": {},
     "output_type": "display_data"
    },
    {
     "name": "stdout",
     "output_type": "stream",
     "text": [
      "(200, 265)\n"
     ]
    },
    {
     "name": "stderr",
     "output_type": "stream",
     "text": [
      "100%|███████████████████████████████████████████████████████████████| 50/50 [00:03<00:00, 12.87it/s]\n"
     ]
    },
    {
     "data": {
      "image/png": "[encoded data removed]",
      "text/plain": [
       "<Figure size 700x400 with 1 Axes>"
      ]
     },
     "metadata": {},
     "output_type": "display_data"
    },
    {
     "name": "stdout",
     "output_type": "stream",
     "text": [
      "(200, 226)\n"
     ]
    },
    {
     "name": "stderr",
     "output_type": "stream",
     "text": [
      "100%|███████████████████████████████████████████████████████████████| 50/50 [00:03<00:00, 12.73it/s]\n"
     ]
    },
    {
     "data": {
      "image/png": "[encoded data removed]",
      "text/plain": [
       "<Figure size 700x400 with 1 Axes>"
      ]
     },
     "metadata": {},
     "output_type": "display_data"
    },
    {
     "name": "stdout",
     "output_type": "stream",
     "text": [
      "(200, 208)\n"
     ]
    }
   ],
   "source": [
    "curr_features = data.columns.tolist()[:-1]\n",
    "curr_data = data.copy()\n",
    "report_histories = []\n",
    "for it in range(N_RECURSIVE_ITERATIONS):\n",
    "    \n",
    "    # create fitness function\n",
    "    fitness_function = pywinEA2.fitness.FeatureSelectionFitness(\n",
    "        model=model,\n",
    "        score='mean_squared_error',\n",
    "        X=data[curr_features].values,\n",
    "        y=data['target'],\n",
    "        X_fixed=None,\n",
    "        cv=None,\n",
    "        n_jobs=1\n",
    "    )\n",
    "    \n",
    "    if it == 0:\n",
    "        # create the genetic algorithm instance    \n",
    "        report = pywinEA2.pso.psoSimple(\n",
    "            population_size=POPULATION_SIZE,\n",
    "            fitness_function=fitness_function,\n",
    "            max_iterations=MAX_GENERATIONS,\n",
    "            pso_evaluation='binary',\n",
    "            pso_evaluation_kw=dict(\n",
    "                invert_objective=True, \n",
    "                threshold=0.8,\n",
    "                n_jobs=15\n",
    "            ),\n",
    "            pso_reference_update='simple',\n",
    "            particle_update='simple_dynamic_inertia',\n",
    "            particle_update_kw=dict(\n",
    "                inertia=0.1,\n",
    "                acc_const1=0.05,\n",
    "                acc_const2=0.05,\n",
    "                clip_values=(0, 1),\n",
    "                dynamic_inertia_weight=0.5,\n",
    "\n",
    "            ),\n",
    "            particle_init_position='random',\n",
    "            particle_init_speed='random',\n",
    "            report=pywinEA2.pso.PSOReport(['min', 'max', 'mean', 'std']),\n",
    "            verbose=True,\n",
    "            seed=1997   \n",
    "        )\n",
    "    else:\n",
    "        new_particles = pywinEA2.pso.population.removeParticleFeatures(\n",
    "                report.particles, mask=feature_mask)\n",
    "        # create the genetic algorithm instance    \n",
    "        report = pywinEA2.pso.psoSimple(\n",
    "            population=new_particles,\n",
    "            fitness_function=fitness_function,\n",
    "            max_iterations=MAX_GENERATIONS,\n",
    "            pso_evaluation='binary',\n",
    "            pso_evaluation_kw=dict(\n",
    "                invert_objective=True, \n",
    "                threshold=0.8,\n",
    "                n_jobs=1\n",
    "            ),\n",
    "            pso_reference_update='simple',\n",
    "            particle_update='simple_dynamic_inertia',\n",
    "            particle_update_kw=dict(\n",
    "                inertia=0.1,\n",
    "                acc_const1=0.05,\n",
    "                acc_const2=0.05,\n",
    "                clip_values=(0, 1),\n",
    "                dynamic_inertia_weight=0.5,\n",
    "\n",
    "            ),\n",
    "            particle_init_position='random',\n",
    "            particle_init_speed='random',\n",
    "            report=pywinEA2.pso.PSOReport(['min', 'max', 'mean', 'std']),\n",
    "            verbose=True,\n",
    "            seed=1997   \n",
    "        )\n",
    "        \n",
    "    report.displayConvergence()\n",
    "    \n",
    "    # save report history\n",
    "    report_histories.append(pd.DataFrame(report.history).T)\n",
    "    \n",
    "    # update features\n",
    "    feature_mask = report.particles[0].gbest > 0.8\n",
    "    curr_features = np.array(curr_features)[feature_mask].tolist()\n",
    "    curr_data = data[curr_features + ['target']].copy()\n",
    "    \n",
    "    print(curr_data.shape)\n",
    "    \n",
    "# concatenate all the reports\n",
    "report_histories = pd.concat(report_histories, axis=0)\n",
    "report_histories.index = np.arange(report_histories.shape[0])"
   ]
  },
  {
   "cell_type": "code",
   "execution_count": 9,
   "id": "a08dd1b9-d9f6-454e-9263-bde2fcca70ea",
   "metadata": {},
   "outputs": [
    {
     "ename": "AssertionError",
     "evalue": "",
     "output_type": "error",
     "traceback": [
      "\u001b[0;31m---------------------------------------------------------------------------\u001b[0m",
      "\u001b[0;31mAssertionError\u001b[0m                            Traceback (most recent call last)",
      "Cell \u001b[0;32mIn[9], line 1\u001b[0m\n\u001b[0;32m----> 1\u001b[0m \u001b[38;5;28;01massert\u001b[39;00m \u001b[38;5;28;01mFalse\u001b[39;00m\n",
      "\u001b[0;31mAssertionError\u001b[0m: "
     ]
    }
   ],
   "source": [
    "assert False"
   ]
  },
  {
   "cell_type": "code",
   "execution_count": 12,
   "id": "f1fd87a0-b62f-4b11-8502-a556374d2a8c",
   "metadata": {},
   "outputs": [
    {
     "data": {
      "text/plain": [
       "[<matplotlib.lines.Line2D at 0x7f7c889c2dc0>]"
      ]
     },
     "execution_count": 12,
     "metadata": {},
     "output_type": "execute_result"
    },
    {
     "data": {
      "image/png": "[encoded data removed]",
      "text/plain": [
       "<Figure size 640x480 with 1 Axes>"
      ]
     },
     "metadata": {},
     "output_type": "display_data"
    }
   ],
   "source": [
    "plt.plot(report_histories['min'])"
   ]
  },
  {
   "cell_type": "code",
   "execution_count": null,
   "id": "4908fe02-20b1-4945-9d6d-d468ded2bb11",
   "metadata": {},
   "outputs": [],
   "source": [
    "assert False"
   ]
  },
  {
   "cell_type": "code",
   "execution_count": null,
   "id": "9825af69-2816-4f74-a554-009fbf31528a",
   "metadata": {},
   "outputs": [],
   "source": []
  },
  {
   "cell_type": "code",
   "execution_count": null,
   "id": "e38e120a-870c-49dc-b58a-797b8aacc927",
   "metadata": {},
   "outputs": [],
   "source": []
  },
  {
   "cell_type": "code",
   "execution_count": null,
   "id": "b12724dd",
   "metadata": {
    "ExecuteTime": {
     "end_time": "2022-10-28T11:46:27.521173Z",
     "start_time": "2022-10-28T11:46:27.429419Z"
    },
    "tags": []
   },
   "outputs": [],
   "source": [
    "curr_features = data.columns.tolist()[:-1]\n",
    "curr_data = data.copy()\n",
    "report_histories = []\n",
    "for it in range(N_RECURSIVE_ITERATIONS):\n",
    "    # create the genetic algorithm instance\n",
    "    obj = pywinEA2.MultiObjFeatureSelectionNSGA2(\n",
    "        data=data,\n",
    "        model=model,\n",
    "        score=OPTIM_SCORE,\n",
    "        y=['target'],\n",
    "        population_size=int(POPULATION_SIZE * 2**it), \n",
    "        p_crossover=PROB_CROSSOVER,\n",
    "        p_mutation=PROB_MUTATION,\n",
    "        max_generations=MAX_GENERATIONS * 2**it,\n",
    "        target_feats=curr_features,\n",
    "        optim=OPTIM,\n",
    "        selection_op=SELECTION_OP,\n",
    "        mutation_op=MUTATION_OP)\n",
    "    \n",
    "    print('POPULATION SIZE: %d' % int(POPULATION_SIZE * 2**it))\n",
    "    print('POPULATION SIZE: %d' % int(MAX_GENERATIONS * 2**it))\n",
    "    \n",
    "    report = pywinEA2.run(obj, type='nsga2', verbose=True)\n",
    "    \n",
    "    # get report history\n",
    "    history = pd.DataFrame({k: report.get(k) for k in report.keys})\n",
    "    for stat in ['min', 'max', 'mean']:\n",
    "        multiobj_stat = np.stack(report.get('multiobj_fitness_values_%s' % stat))\n",
    "        history['multiobj_%s0' % stat] = multiobj_stat[:, 0]\n",
    "        history['multiobj_%s1' % stat] = multiobj_stat[:, 1]\n",
    "    report_histories.append(history)\n",
    "    \n",
    "    # sum all the features from the population\n",
    "    feature_sel_mask = (np.array(list(report.population)).sum(axis=0) > 0)\n",
    "    curr_features = curr_data.drop(columns=['target']).columns[feature_sel_mask].values.tolist()\n",
    "    curr_data = data[curr_features + ['target']].copy()\n",
    "    \n",
    "    for c in ['feat_%d' % i for i in range(5)]:\n",
    "        if c not in curr_data.columns:\n",
    "            assert False, 'Missing %s' % c\n",
    "    \n",
    "# concatenate all the reports\n",
    "report_histories = pd.concat(report_histories, axis=0)\n",
    "report_histories.index = np.arange(report_histories.shape[0])"
   ]
  },
  {
   "cell_type": "code",
   "execution_count": null,
   "id": "9bdeddc8-2e8c-43e9-8530-a7ba61e1de1d",
   "metadata": {},
   "outputs": [],
   "source": [
    "obj.getFitnessObj()"
   ]
  },
  {
   "cell_type": "code",
   "execution_count": null,
   "id": "0a77d7e7-6895-4a2a-a5e0-6f9a2fcdf6c3",
   "metadata": {},
   "outputs": [],
   "source": [
    "perfect_ind = np.zeros(len(report.pareto_front[0])).astype(int).tolist()\n",
    "perfect_ind[:5] = [1, 1, 1, 1, 1]\n",
    "obj.getFitnessObj()(perfect_ind)"
   ]
  },
  {
   "cell_type": "code",
   "execution_count": null,
   "id": "ca2ebdce-8a4a-4317-9453-cecb05cd09b2",
   "metadata": {},
   "outputs": [],
   "source": []
  },
  {
   "cell_type": "code",
   "execution_count": null,
   "id": "cdb2fa45-c351-4b77-8197-6ae8a44245fc",
   "metadata": {},
   "outputs": [],
   "source": [
    "for ind in report.pareto_front:\n",
    "    print(ind[:10])\n",
    "    print(obj.getFitnessObj()(ind))"
   ]
  },
  {
   "cell_type": "code",
   "execution_count": null,
   "id": "34c22e08-377d-4fe8-8a24-342ec987e95a",
   "metadata": {
    "tags": []
   },
   "outputs": [],
   "source": [
    "for ind in report.population:\n",
    "    print(ind[:10])\n",
    "    print(obj.getFitnessObj()(ind))"
   ]
  },
  {
   "cell_type": "code",
   "execution_count": null,
   "id": "fc095dbe-bcfb-4609-9487-aa0ab7ba83ec",
   "metadata": {},
   "outputs": [],
   "source": [
    "len(report.population)"
   ]
  },
  {
   "cell_type": "code",
   "execution_count": null,
   "id": "21ffb55f-d5ad-4ee6-b1d1-941de3b211e4",
   "metadata": {},
   "outputs": [],
   "source": [
    "assert False"
   ]
  },
  {
   "cell_type": "code",
   "execution_count": null,
   "id": "badde9c5-a043-4ad4-a632-402eaa342763",
   "metadata": {},
   "outputs": [],
   "source": [
    "assert False"
   ]
  },
  {
   "cell_type": "code",
   "execution_count": null,
   "id": "ff30ec04-c340-417b-9cdf-374008435e32",
   "metadata": {},
   "outputs": [],
   "source": [
    "plt.plot(pd.concat(report_histories, axis=0)['multiobj_min0'].values)"
   ]
  },
  {
   "cell_type": "code",
   "execution_count": null,
   "id": "6b1d7b0b-d87e-4087-9b80-aff42dcaeebe",
   "metadata": {},
   "outputs": [],
   "source": []
  },
  {
   "cell_type": "code",
   "execution_count": null,
   "id": "7e05cfff-314b-4b2c-857a-7716698ea686",
   "metadata": {},
   "outputs": [],
   "source": [
    "np.array(list(report.pareto_front))"
   ]
  },
  {
   "cell_type": "code",
   "execution_count": null,
   "id": "cdb62b97-a06e-43aa-8528-b002f74b6039",
   "metadata": {},
   "outputs": [],
   "source": [
    "plt.plot(report_histories['multiobj_min0'])"
   ]
  },
  {
   "cell_type": "code",
   "execution_count": null,
   "id": "98465aac-8b75-4dd3-b7f9-1312cd0a2a81",
   "metadata": {},
   "outputs": [],
   "source": []
  },
  {
   "cell_type": "code",
   "execution_count": null,
   "id": "c0a713aa-1aae-4c6c-9188-a4a23e42dcc9",
   "metadata": {},
   "outputs": [],
   "source": [
    "report_histories"
   ]
  },
  {
   "cell_type": "code",
   "execution_count": null,
   "id": "3d92ba67-6747-43d3-a135-5dd529d77c7d",
   "metadata": {},
   "outputs": [],
   "source": []
  },
  {
   "cell_type": "code",
   "execution_count": null,
   "id": "432f249f-5042-4fbd-a044-267235eccc56",
   "metadata": {},
   "outputs": [],
   "source": [
    "history"
   ]
  },
  {
   "cell_type": "code",
   "execution_count": null,
   "id": "ef31c884-42ec-4832-b4f2-25f44725b9b8",
   "metadata": {},
   "outputs": [],
   "source": [
    "report.logbook"
   ]
  },
  {
   "cell_type": "code",
   "execution_count": null,
   "id": "a7c57dcb-3ebf-4b45-8131-9aebc296d1af",
   "metadata": {},
   "outputs": [],
   "source": [
    "report.get(['multiobj_fitness_values_min', 'multiobj_fitness_values_min', 'multiobj_fitness_values_min'])"
   ]
  },
  {
   "cell_type": "code",
   "execution_count": null,
   "id": "04b67b31-c2a9-407e-9bd9-054fd4694b4b",
   "metadata": {},
   "outputs": [],
   "source": [
    "report.logbook"
   ]
  },
  {
   "cell_type": "code",
   "execution_count": null,
   "id": "042a43cf-ccce-4047-a9cf-1f65210de810",
   "metadata": {},
   "outputs": [],
   "source": [
    "assert False"
   ]
  },
  {
   "cell_type": "code",
   "execution_count": null,
   "id": "213dfb94-4fd4-4119-8a8d-4b71c8accfa7",
   "metadata": {},
   "outputs": [],
   "source": [
    "curr_data[best_features + ['target']]"
   ]
  },
  {
   "cell_type": "code",
   "execution_count": null,
   "id": "a754d378-a204-445a-b7e6-ac13d9c52364",
   "metadata": {},
   "outputs": [],
   "source": []
  },
  {
   "cell_type": "code",
   "execution_count": null,
   "id": "5127a7de-d589-459d-b027-9f1b879c2676",
   "metadata": {},
   "outputs": [],
   "source": []
  },
  {
   "cell_type": "code",
   "execution_count": null,
   "id": "1cdc38ca-9372-4e50-9b1e-8f48aaf27b8c",
   "metadata": {},
   "outputs": [],
   "source": []
  },
  {
   "cell_type": "code",
   "execution_count": null,
   "id": "bdf4f6f4-9fa2-4015-810a-c3c47fb99e87",
   "metadata": {},
   "outputs": [],
   "source": []
  },
  {
   "cell_type": "code",
   "execution_count": null,
   "id": "8f84a9b5-2204-4ffe-962e-5e6c37a8d51c",
   "metadata": {},
   "outputs": [],
   "source": []
  },
  {
   "cell_type": "code",
   "execution_count": null,
   "id": "83846a45-d2b5-4eeb-bcb3-35894206c752",
   "metadata": {},
   "outputs": [],
   "source": []
  },
  {
   "cell_type": "code",
   "execution_count": null,
   "id": "1f7b3ba9-d4ad-4087-8de9-8bd93a34b91d",
   "metadata": {},
   "outputs": [],
   "source": [
    "    ind_features = curr_data.columns[np.array(ind) == 1].values\n",
    "    fitted_model = model.fit(curr_data[ind_features].values, y_train.values)\n",
    "    y_pred = fitted_model.predict(X_test_unisel[ind_features].values)\n",
    "    score = obj._fitness_obj._score(y_pred=y_pred, y_true=y_test.values)\n",
    "\n",
    "    pareto_front_scores.append(score)\n",
    "    pareto_front_features.append(ind_features)"
   ]
  },
  {
   "cell_type": "code",
   "execution_count": null,
   "id": "fd44ab28-521d-40bf-9219-be398ac76287",
   "metadata": {},
   "outputs": [],
   "source": []
  },
  {
   "cell_type": "code",
   "execution_count": null,
   "id": "f44394e1-3a18-45a3-be35-9f8f1acdf6f4",
   "metadata": {},
   "outputs": [],
   "source": []
  },
  {
   "cell_type": "code",
   "execution_count": null,
   "id": "17c50ee6-2e29-4140-bac0-55009f9f9e96",
   "metadata": {},
   "outputs": [],
   "source": []
  },
  {
   "cell_type": "code",
   "execution_count": null,
   "id": "1f9fe784",
   "metadata": {
    "ExecuteTime": {
     "end_time": "2022-10-28T11:47:29.402300Z",
     "start_time": "2022-10-28T11:46:27.523169Z"
    }
   },
   "outputs": [],
   "source": [
    "report = pywinEA2.run(obj, type='nsga2', verbose=True)"
   ]
  },
  {
   "cell_type": "code",
   "execution_count": null,
   "id": "bf588582",
   "metadata": {
    "ExecuteTime": {
     "end_time": "2022-10-28T11:47:29.622732Z",
     "start_time": "2022-10-28T11:47:29.404294Z"
    }
   },
   "outputs": [],
   "source": [
    "report.displayConvergence(title='Convergence')"
   ]
  },
  {
   "cell_type": "code",
   "execution_count": null,
   "id": "6069f07f",
   "metadata": {
    "ExecuteTime": {
     "end_time": "2022-10-28T11:47:29.934947Z",
     "start_time": "2022-10-28T11:47:29.623714Z"
    }
   },
   "outputs": [],
   "source": [
    "report.displayMultiObjectiveConvergence(title='Convergence', objective_names=['MSE', 'Features'])"
   ]
  },
  {
   "cell_type": "code",
   "execution_count": null,
   "id": "9086b901",
   "metadata": {
    "ExecuteTime": {
     "end_time": "2022-10-28T11:47:30.138309Z",
     "start_time": "2022-10-28T11:47:29.935921Z"
    }
   },
   "outputs": [],
   "source": [
    "report.displayParetoFront(objective_names=['MSE', 'Features'])"
   ]
  },
  {
   "cell_type": "code",
   "execution_count": null,
   "id": "7727096f",
   "metadata": {
    "ExecuteTime": {
     "end_time": "2022-10-28T11:47:30.217306Z",
     "start_time": "2022-10-28T11:47:30.140303Z"
    }
   },
   "outputs": [],
   "source": [
    "data.columns.values[:-1][np.array(report.hall_of_fame[0], dtype=bool)]  # optimal solution"
   ]
  },
  {
   "cell_type": "code",
   "execution_count": null,
   "id": "c9c929da",
   "metadata": {
    "ExecuteTime": {
     "end_time": "2022-10-28T11:47:30.310334Z",
     "start_time": "2022-10-28T11:47:30.218302Z"
    }
   },
   "outputs": [],
   "source": [
    "pywinEA2.save(report, 'test', extension='report')"
   ]
  },
  {
   "cell_type": "code",
   "execution_count": null,
   "id": "8b0aa9cf",
   "metadata": {
    "ExecuteTime": {
     "end_time": "2022-10-28T11:53:19.539104Z",
     "start_time": "2022-10-28T11:53:19.410307Z"
    }
   },
   "outputs": [],
   "source": [
    "pywinEA2.load('test.report')"
   ]
  }
 ],
 "metadata": {
  "kernelspec": {
   "display_name": "Python 3 (ipykernel)",
   "language": "python",
   "name": "python3"
  },
  "language_info": {
   "codemirror_mode": {
    "name": "ipython",
    "version": 3
   },
   "file_extension": ".py",
   "mimetype": "text/x-python",
   "name": "python",
   "nbconvert_exporter": "python",
   "pygments_lexer": "ipython3",
   "version": "3.9.16"
  },
  "toc": {
   "base_numbering": 1,
   "nav_menu": {},
   "number_sections": true,
   "sideBar": true,
   "skip_h1_title": false,
   "title_cell": "Table of Contents",
   "title_sidebar": "Contents",
   "toc_cell": false,
   "toc_position": {},
   "toc_section_display": true,
   "toc_window_display": false
  }
 },
 "nbformat": 4,
 "nbformat_minor": 5
}

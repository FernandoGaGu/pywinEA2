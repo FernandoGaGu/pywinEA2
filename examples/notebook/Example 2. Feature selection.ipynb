{
 "cells": [
  {
   "cell_type": "markdown",
   "id": "6cebfc13",
   "metadata": {},
   "source": [
    "Problem: Friedman-1 regression\n",
    "\n",
    "__\\<INCLUDE FORMULA\\>__\n",
    "\n",
    "Description: Page 207 DEAP"
   ]
  },
  {
   "cell_type": "code",
   "execution_count": 1,
   "id": "fb25ec79",
   "metadata": {
    "ExecuteTime": {
     "end_time": "2023-01-26T15:41:23.113701Z",
     "start_time": "2023-01-26T15:41:23.067825Z"
    }
   },
   "outputs": [],
   "source": [
    "%load_ext autoreload\n",
    "%autoreload 2"
   ]
  },
  {
   "cell_type": "code",
   "execution_count": 2,
   "id": "23e2bffd",
   "metadata": {
    "ExecuteTime": {
     "end_time": "2023-01-26T15:41:24.983187Z",
     "start_time": "2023-01-26T15:41:23.115697Z"
    }
   },
   "outputs": [],
   "source": [
    "import os\n",
    "import sys\n",
    "import pandas as pd\n",
    "import numpy as np\n",
    "import matplotlib.pyplot as plt\n",
    "\n",
    "# used libraries\n",
    "import pandas as pd\n",
    "from sklearn import datasets\n",
    "from sklearn.model_selection import train_test_split\n",
    "from sklearn.svm import SVR\n",
    "\n",
    "sys.path.append(os.path.join('..', '..'))\n",
    "import pywinEA2 as pea"
   ]
  },
  {
   "cell_type": "code",
   "execution_count": 3,
   "id": "1afd8908",
   "metadata": {
    "ExecuteTime": {
     "end_time": "2023-01-26T15:41:25.077940Z",
     "start_time": "2023-01-26T15:41:24.985183Z"
    }
   },
   "outputs": [],
   "source": [
    "# PSO algorithm parameters\n",
    "POPULATION_SIZE = 100\n",
    "MAX_ITERATIONS = 1000\n",
    "PSO_UPDATE_KW = dict(\n",
    "    inertia=0.01,\n",
    "    acc_const1=0.05,\n",
    "    clip_values=(0, 1)\n",
    ")\n",
    "\n",
    "# dataset creation parameters\n",
    "N_SAMPLES = 200\n",
    "N_FEATURES = 90\n",
    "NOISE = 0.5\n",
    "\n",
    "# misc\n",
    "SEED = 1997\n"
   ]
  },
  {
   "cell_type": "code",
   "execution_count": 4,
   "id": "5fab5913",
   "metadata": {
    "ExecuteTime": {
     "end_time": "2023-01-26T15:41:25.172686Z",
     "start_time": "2023-01-26T15:41:25.078937Z"
    },
    "code_folding": [
     0
    ]
   },
   "outputs": [],
   "source": [
    "def getDataset() -> pd.DataFrame:\n",
    "    \"\"\" Create the testing dataset \"\"\"\n",
    "    X, y = datasets.make_friedman1(\n",
    "        n_samples=N_SAMPLES,\n",
    "        n_features=N_FEATURES,\n",
    "        noise=NOISE,\n",
    "        random_state=SEED)\n",
    "    \n",
    "    X = pd.DataFrame(X, columns=['feat_{}'.format(f) for f in range(X.shape[1])])\n",
    "    y = pd.DataFrame(y, columns=['target'])\n",
    "    data = pd.concat([X, y], axis=1)\n",
    "    \n",
    "    return data"
   ]
  },
  {
   "cell_type": "code",
   "execution_count": 5,
   "id": "55a3d3e6",
   "metadata": {
    "ExecuteTime": {
     "end_time": "2023-01-26T15:41:25.283390Z",
     "start_time": "2023-01-26T15:41:25.173684Z"
    }
   },
   "outputs": [
    {
     "data": {
      "text/html": [
       "<div>\n",
       "<style scoped>\n",
       "    .dataframe tbody tr th:only-of-type {\n",
       "        vertical-align: middle;\n",
       "    }\n",
       "\n",
       "    .dataframe tbody tr th {\n",
       "        vertical-align: top;\n",
       "    }\n",
       "\n",
       "    .dataframe thead th {\n",
       "        text-align: right;\n",
       "    }\n",
       "</style>\n",
       "<table border=\"1\" class=\"dataframe\">\n",
       "  <thead>\n",
       "    <tr style=\"text-align: right;\">\n",
       "      <th></th>\n",
       "      <th>feat_0</th>\n",
       "      <th>feat_1</th>\n",
       "      <th>feat_2</th>\n",
       "      <th>feat_3</th>\n",
       "      <th>feat_4</th>\n",
       "      <th>feat_5</th>\n",
       "      <th>feat_6</th>\n",
       "      <th>feat_7</th>\n",
       "      <th>feat_8</th>\n",
       "      <th>feat_9</th>\n",
       "      <th>...</th>\n",
       "      <th>feat_81</th>\n",
       "      <th>feat_82</th>\n",
       "      <th>feat_83</th>\n",
       "      <th>feat_84</th>\n",
       "      <th>feat_85</th>\n",
       "      <th>feat_86</th>\n",
       "      <th>feat_87</th>\n",
       "      <th>feat_88</th>\n",
       "      <th>feat_89</th>\n",
       "      <th>target</th>\n",
       "    </tr>\n",
       "  </thead>\n",
       "  <tbody>\n",
       "    <tr>\n",
       "      <th>0</th>\n",
       "      <td>0.771148</td>\n",
       "      <td>0.074757</td>\n",
       "      <td>0.526310</td>\n",
       "      <td>0.975088</td>\n",
       "      <td>0.992226</td>\n",
       "      <td>0.465135</td>\n",
       "      <td>0.611135</td>\n",
       "      <td>0.569463</td>\n",
       "      <td>0.667719</td>\n",
       "      <td>0.786780</td>\n",
       "      <td>...</td>\n",
       "      <td>0.739056</td>\n",
       "      <td>0.189999</td>\n",
       "      <td>0.354658</td>\n",
       "      <td>0.213068</td>\n",
       "      <td>0.424554</td>\n",
       "      <td>0.320884</td>\n",
       "      <td>0.967451</td>\n",
       "      <td>0.063337</td>\n",
       "      <td>0.225850</td>\n",
       "      <td>16.864643</td>\n",
       "    </tr>\n",
       "    <tr>\n",
       "      <th>1</th>\n",
       "      <td>0.944677</td>\n",
       "      <td>0.166228</td>\n",
       "      <td>0.077853</td>\n",
       "      <td>0.717844</td>\n",
       "      <td>0.920020</td>\n",
       "      <td>0.615669</td>\n",
       "      <td>0.299287</td>\n",
       "      <td>0.847137</td>\n",
       "      <td>0.508283</td>\n",
       "      <td>0.131813</td>\n",
       "      <td>...</td>\n",
       "      <td>0.266088</td>\n",
       "      <td>0.491251</td>\n",
       "      <td>0.377104</td>\n",
       "      <td>0.265917</td>\n",
       "      <td>0.857921</td>\n",
       "      <td>0.914392</td>\n",
       "      <td>0.771561</td>\n",
       "      <td>0.187760</td>\n",
       "      <td>0.384997</td>\n",
       "      <td>20.389099</td>\n",
       "    </tr>\n",
       "    <tr>\n",
       "      <th>2</th>\n",
       "      <td>0.217790</td>\n",
       "      <td>0.972564</td>\n",
       "      <td>0.403189</td>\n",
       "      <td>0.872092</td>\n",
       "      <td>0.682622</td>\n",
       "      <td>0.445948</td>\n",
       "      <td>0.288469</td>\n",
       "      <td>0.761892</td>\n",
       "      <td>0.621428</td>\n",
       "      <td>0.208704</td>\n",
       "      <td>...</td>\n",
       "      <td>0.212825</td>\n",
       "      <td>0.341531</td>\n",
       "      <td>0.144842</td>\n",
       "      <td>0.435395</td>\n",
       "      <td>0.022645</td>\n",
       "      <td>0.667047</td>\n",
       "      <td>0.036734</td>\n",
       "      <td>0.655309</td>\n",
       "      <td>0.418235</td>\n",
       "      <td>18.261778</td>\n",
       "    </tr>\n",
       "    <tr>\n",
       "      <th>3</th>\n",
       "      <td>0.422399</td>\n",
       "      <td>0.438913</td>\n",
       "      <td>0.771213</td>\n",
       "      <td>0.502754</td>\n",
       "      <td>0.824081</td>\n",
       "      <td>0.200905</td>\n",
       "      <td>0.374775</td>\n",
       "      <td>0.723844</td>\n",
       "      <td>0.835281</td>\n",
       "      <td>0.951988</td>\n",
       "      <td>...</td>\n",
       "      <td>0.629061</td>\n",
       "      <td>0.112162</td>\n",
       "      <td>0.667163</td>\n",
       "      <td>0.303717</td>\n",
       "      <td>0.528023</td>\n",
       "      <td>0.122898</td>\n",
       "      <td>0.449646</td>\n",
       "      <td>0.511640</td>\n",
       "      <td>0.581908</td>\n",
       "      <td>15.298821</td>\n",
       "    </tr>\n",
       "    <tr>\n",
       "      <th>4</th>\n",
       "      <td>0.341653</td>\n",
       "      <td>0.076352</td>\n",
       "      <td>0.535166</td>\n",
       "      <td>0.679331</td>\n",
       "      <td>0.747861</td>\n",
       "      <td>0.665039</td>\n",
       "      <td>0.877723</td>\n",
       "      <td>0.025591</td>\n",
       "      <td>0.277263</td>\n",
       "      <td>0.648561</td>\n",
       "      <td>...</td>\n",
       "      <td>0.053892</td>\n",
       "      <td>0.553951</td>\n",
       "      <td>0.727013</td>\n",
       "      <td>0.407122</td>\n",
       "      <td>0.062515</td>\n",
       "      <td>0.518457</td>\n",
       "      <td>0.470395</td>\n",
       "      <td>0.892971</td>\n",
       "      <td>0.454677</td>\n",
       "      <td>11.989297</td>\n",
       "    </tr>\n",
       "  </tbody>\n",
       "</table>\n",
       "<p>5 rows × 91 columns</p>\n",
       "</div>"
      ],
      "text/plain": [
       "     feat_0    feat_1    feat_2    feat_3    feat_4    feat_5    feat_6  \\\n",
       "0  0.771148  0.074757  0.526310  0.975088  0.992226  0.465135  0.611135   \n",
       "1  0.944677  0.166228  0.077853  0.717844  0.920020  0.615669  0.299287   \n",
       "2  0.217790  0.972564  0.403189  0.872092  0.682622  0.445948  0.288469   \n",
       "3  0.422399  0.438913  0.771213  0.502754  0.824081  0.200905  0.374775   \n",
       "4  0.341653  0.076352  0.535166  0.679331  0.747861  0.665039  0.877723   \n",
       "\n",
       "     feat_7    feat_8    feat_9  ...   feat_81   feat_82   feat_83   feat_84  \\\n",
       "0  0.569463  0.667719  0.786780  ...  0.739056  0.189999  0.354658  0.213068   \n",
       "1  0.847137  0.508283  0.131813  ...  0.266088  0.491251  0.377104  0.265917   \n",
       "2  0.761892  0.621428  0.208704  ...  0.212825  0.341531  0.144842  0.435395   \n",
       "3  0.723844  0.835281  0.951988  ...  0.629061  0.112162  0.667163  0.303717   \n",
       "4  0.025591  0.277263  0.648561  ...  0.053892  0.553951  0.727013  0.407122   \n",
       "\n",
       "    feat_85   feat_86   feat_87   feat_88   feat_89     target  \n",
       "0  0.424554  0.320884  0.967451  0.063337  0.225850  16.864643  \n",
       "1  0.857921  0.914392  0.771561  0.187760  0.384997  20.389099  \n",
       "2  0.022645  0.667047  0.036734  0.655309  0.418235  18.261778  \n",
       "3  0.528023  0.122898  0.449646  0.511640  0.581908  15.298821  \n",
       "4  0.062515  0.518457  0.470395  0.892971  0.454677  11.989297  \n",
       "\n",
       "[5 rows x 91 columns]"
      ]
     },
     "execution_count": 5,
     "metadata": {},
     "output_type": "execute_result"
    }
   ],
   "source": [
    "data = getDataset()\n",
    "data.head(5)"
   ]
  },
  {
   "cell_type": "code",
   "execution_count": 6,
   "id": "94be7b11-cc31-4f37-8b5f-2c4cd1d58462",
   "metadata": {
    "tags": []
   },
   "outputs": [
    {
     "name": "stderr",
     "output_type": "stream",
     "text": [
      "100%|█████████████████████████████████████████████████████████████| 500/500 [01:53<00:00,  4.40it/s]\n"
     ]
    }
   ],
   "source": [
    "pea.USE_NOTEBOOK_ENVIRONMENT = False\n",
    "\n",
    "# create the model\n",
    "model = SVR()\n",
    "# create fitness function\n",
    "fitness_function = pea.fitness.FeatureSelectionFitness(\n",
    "    model=model,\n",
    "    score='mean_squared_error',\n",
    "    X=data[[c for c in data.columns if c.startswith('feat')]].values,\n",
    "    y=data['target'],\n",
    "    X_fixed=None,\n",
    "    cv=None,\n",
    "    n_jobs=1\n",
    ")\n",
    "\n",
    "\n",
    "particles = pea.pso.vlpso(\n",
    "    population_size=200,\n",
    "    num_population_div=20,\n",
    "    fitness_function=fitness_function,\n",
    "    max_iterations=500,\n",
    "    beta=50,\n",
    "    alpha=50,\n",
    "    rank_function='pearsonCorrImportance',\n",
    "    particle_update_kw={'inertia': 0.1, 'acc_const1': 0.1},\n",
    "    pso_evaluation_kw=dict(invert_objective=True, n_jobs=15),\n",
    "    report=pea.pso.PSOReport(['min', 'max', 'mean', 'std'])\n",
    ")\n",
    "#report , feature_order = particles\n",
    "#particles = report.particles"
   ]
  },
  {
   "cell_type": "code",
   "execution_count": 7,
   "id": "68c05d4f-c680-4c27-846c-821b9c34608a",
   "metadata": {},
   "outputs": [
    {
     "data": {
      "image/png": "[encoded data removed]",
      "text/plain": [
       "<Figure size 700x400 with 1 Axes>"
      ]
     },
     "metadata": {},
     "output_type": "display_data"
    }
   ],
   "source": [
    "particles[0].displayConvergence()"
   ]
  },
  {
   "cell_type": "code",
   "execution_count": 9,
   "id": "d16d5bd6-1f4f-4722-8d80-df49f88e5b72",
   "metadata": {},
   "outputs": [
    {
     "data": {
      "text/plain": [
       "array([0.77437237, 0.75528623, 0.76648494, 0.8843877 ])"
      ]
     },
     "execution_count": 9,
     "metadata": {},
     "output_type": "execute_result"
    }
   ],
   "source": [
    "particles[0].particles[0].gbest"
   ]
  },
  {
   "cell_type": "code",
   "execution_count": 13,
   "id": "743e28aa-8882-47c1-80bd-3835bfe15123",
   "metadata": {},
   "outputs": [
    {
     "data": {
      "text/plain": [
       "array([0.77437237, 0.75528623, 0.76648494, 0.8843877 ])"
      ]
     },
     "execution_count": 13,
     "metadata": {},
     "output_type": "execute_result"
    }
   ],
   "source": [
    "particles[0].particles[199].gbest"
   ]
  },
  {
   "cell_type": "code",
   "execution_count": 14,
   "id": "ca673efa-0c16-461f-b3b9-eabb06e62717",
   "metadata": {},
   "outputs": [
    {
     "data": {
      "text/plain": [
       "array([0.34658754, 0.60396683, 0.50736444])"
      ]
     },
     "execution_count": 14,
     "metadata": {},
     "output_type": "execute_result"
    }
   ],
   "source": [
    "particles[0].particles[199].pbest"
   ]
  },
  {
   "cell_type": "code",
   "execution_count": 15,
   "id": "3e284731-a7be-4597-9e3e-ca4f0a350aa6",
   "metadata": {},
   "outputs": [
    {
     "data": {
      "text/plain": [
       "array([0.85317402])"
      ]
     },
     "execution_count": 15,
     "metadata": {},
     "output_type": "execute_result"
    }
   ],
   "source": [
    "particles[0].particles[0].pbest"
   ]
  },
  {
   "cell_type": "code",
   "execution_count": 10,
   "id": "a3a52b87-af03-47e6-831c-1427d9e5fb2a",
   "metadata": {},
   "outputs": [
    {
     "data": {
      "text/plain": [
       "['feat_3',\n",
       " 'feat_0',\n",
       " 'feat_1',\n",
       " 'feat_4',\n",
       " 'feat_83',\n",
       " 'feat_67',\n",
       " 'feat_6',\n",
       " 'feat_36',\n",
       " 'feat_63',\n",
       " 'feat_32',\n",
       " 'feat_82',\n",
       " 'feat_18',\n",
       " 'feat_68',\n",
       " 'feat_59',\n",
       " 'feat_17',\n",
       " 'feat_8',\n",
       " 'feat_52',\n",
       " 'feat_47',\n",
       " 'feat_25',\n",
       " 'feat_15',\n",
       " 'feat_42',\n",
       " 'feat_71',\n",
       " 'feat_84',\n",
       " 'feat_55',\n",
       " 'feat_22',\n",
       " 'feat_89',\n",
       " 'feat_23',\n",
       " 'feat_39',\n",
       " 'feat_45',\n",
       " 'feat_77',\n",
       " 'feat_30',\n",
       " 'feat_11',\n",
       " 'feat_56',\n",
       " 'feat_88',\n",
       " 'feat_14',\n",
       " 'feat_54',\n",
       " 'feat_79',\n",
       " 'feat_38',\n",
       " 'feat_44',\n",
       " 'feat_70',\n",
       " 'feat_50',\n",
       " 'feat_37',\n",
       " 'feat_33',\n",
       " 'feat_87',\n",
       " 'feat_62',\n",
       " 'feat_80',\n",
       " 'feat_40',\n",
       " 'feat_76',\n",
       " 'feat_49',\n",
       " 'feat_24',\n",
       " 'feat_51',\n",
       " 'feat_26',\n",
       " 'feat_35',\n",
       " 'feat_66',\n",
       " 'feat_34',\n",
       " 'feat_64',\n",
       " 'feat_69',\n",
       " 'feat_7',\n",
       " 'feat_29',\n",
       " 'feat_20',\n",
       " 'feat_21',\n",
       " 'feat_43',\n",
       " 'feat_53',\n",
       " 'feat_2',\n",
       " 'feat_61',\n",
       " 'feat_46',\n",
       " 'feat_58',\n",
       " 'feat_48',\n",
       " 'feat_86',\n",
       " 'feat_16',\n",
       " 'feat_28',\n",
       " 'feat_81',\n",
       " 'feat_19',\n",
       " 'feat_13',\n",
       " 'feat_75',\n",
       " 'feat_5',\n",
       " 'feat_65',\n",
       " 'feat_12',\n",
       " 'feat_57',\n",
       " 'feat_72',\n",
       " 'feat_10',\n",
       " 'feat_85',\n",
       " 'feat_73',\n",
       " 'feat_41',\n",
       " 'feat_74',\n",
       " 'feat_9',\n",
       " 'feat_31',\n",
       " 'feat_60',\n",
       " 'feat_27',\n",
       " 'feat_78']"
      ]
     },
     "execution_count": 10,
     "metadata": {},
     "output_type": "execute_result"
    }
   ],
   "source": [
    "particles[1]"
   ]
  },
  {
   "cell_type": "code",
   "execution_count": 8,
   "id": "03bbb71c-5612-4284-b010-f3c164d7bd34",
   "metadata": {},
   "outputs": [
    {
     "ename": "AssertionError",
     "evalue": "",
     "output_type": "error",
     "traceback": [
      "\u001b[0;31m---------------------------------------------------------------------------\u001b[0m",
      "\u001b[0;31mAssertionError\u001b[0m                            Traceback (most recent call last)",
      "\u001b[0;32m/var/folders/dv/vbbzfkss4qz5p1b5slngtd5h0000gn/T/ipykernel_10801/2103537015.py\u001b[0m in \u001b[0;36m<module>\u001b[0;34m\u001b[0m\n\u001b[0;32m----> 1\u001b[0;31m \u001b[0;32massert\u001b[0m \u001b[0;32mFalse\u001b[0m\u001b[0;34m\u001b[0m\u001b[0;34m\u001b[0m\u001b[0m\n\u001b[0m",
      "\u001b[0;31mAssertionError\u001b[0m: "
     ]
    }
   ],
   "source": [
    "assert False"
   ]
  },
  {
   "cell_type": "code",
   "execution_count": null,
   "id": "63b799a2-4a3e-432d-8b64-713dc13c7a36",
   "metadata": {},
   "outputs": [],
   "source": [
    "pea.pso.population.lengthChanging(particles)"
   ]
  },
  {
   "cell_type": "code",
   "execution_count": null,
   "id": "227316df-bf4b-46ea-8445-220b6ae0819b",
   "metadata": {},
   "outputs": [],
   "source": [
    "from collections import defaultdict\n",
    "fitness_per_division = defaultdict(list)\n",
    "particles_by_division = defaultdict(list)\n",
    "for p in particles:\n",
    "    fitness_per_division[len(p)].append(p.best_fitness_value)\n",
    "    particles_by_division[len(p)].append(p)\n",
    "fitness_per_division = {k: np.mean(v) for k, v in fitness_per_division.items()}\n",
    "\n",
    "# get the number of divisions of the current swarm\n",
    "nbr_div = len(fitness_per_division)\n",
    "# get the max length of particles in the current swarm\n",
    "max_len = max(fitness_per_division.keys())\n",
    "# particles' length of the best division\n",
    "best_len = max(fitness_per_division, key=lambda v: fitness_per_division[v])\n",
    "# sort the different divisions\n",
    "divisions = sorted(list(fitness_per_division.keys()))"
   ]
  },
  {
   "cell_type": "code",
   "execution_count": null,
   "id": "912e6f6e-9556-4f6f-8f83-60bd167442a4",
   "metadata": {},
   "outputs": [],
   "source": [
    "fitness_per_division"
   ]
  },
  {
   "cell_type": "code",
   "execution_count": null,
   "id": "ddc387de-6299-4792-8fa9-c350235b665e",
   "metadata": {},
   "outputs": [],
   "source": [
    "nbr_div, max_len, best_len"
   ]
  },
  {
   "cell_type": "code",
   "execution_count": null,
   "id": "f9c50697-a4e1-438f-a9ce-d81a2fb77503",
   "metadata": {},
   "outputs": [],
   "source": []
  },
  {
   "cell_type": "code",
   "execution_count": null,
   "id": "fd09af8b-ce7c-47ce-858c-a3b6574dabeb",
   "metadata": {},
   "outputs": [],
   "source": []
  },
  {
   "cell_type": "code",
   "execution_count": null,
   "id": "8e6d28e1-6b4f-4c09-b82f-9d6a289ae390",
   "metadata": {},
   "outputs": [],
   "source": []
  },
  {
   "cell_type": "code",
   "execution_count": null,
   "id": "30e6161a-19b3-4b6f-ae69-b959214c3aee",
   "metadata": {},
   "outputs": [],
   "source": []
  },
  {
   "cell_type": "code",
   "execution_count": null,
   "id": "cae8d4ee-9dd9-4916-82d7-2e5f934f5bec",
   "metadata": {},
   "outputs": [],
   "source": []
  }
 ],
 "metadata": {
  "kernelspec": {
   "display_name": "Python 3 (ipykernel)",
   "language": "python",
   "name": "python3"
  },
  "language_info": {
   "codemirror_mode": {
    "name": "ipython",
    "version": 3
   },
   "file_extension": ".py",
   "mimetype": "text/x-python",
   "name": "python",
   "nbconvert_exporter": "python",
   "pygments_lexer": "ipython3",
   "version": "3.9.13"
  },
  "toc": {
   "base_numbering": 1,
   "nav_menu": {},
   "number_sections": true,
   "sideBar": true,
   "skip_h1_title": false,
   "title_cell": "Table of Contents",
   "title_sidebar": "Contents",
   "toc_cell": false,
   "toc_position": {},
   "toc_section_display": true,
   "toc_window_display": false
  }
 },
 "nbformat": 4,
 "nbformat_minor": 5
}

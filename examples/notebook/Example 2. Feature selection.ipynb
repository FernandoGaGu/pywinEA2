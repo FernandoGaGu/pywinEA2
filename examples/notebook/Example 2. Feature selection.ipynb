{
 "cells": [
  {
   "cell_type": "markdown",
   "id": "6cebfc13",
   "metadata": {},
   "source": [
    "Problem: Friedman-1 regression\n",
    "\n",
    "__\\<INCLUDE FORMULA\\>__\n",
    "\n",
    "Description: Page 207 DEAP"
   ]
  },
  {
   "cell_type": "code",
   "execution_count": 1,
   "id": "fb25ec79",
   "metadata": {
    "ExecuteTime": {
     "end_time": "2023-01-26T15:41:23.113701Z",
     "start_time": "2023-01-26T15:41:23.067825Z"
    }
   },
   "outputs": [],
   "source": [
    "%load_ext autoreload\n",
    "%autoreload 2"
   ]
  },
  {
   "cell_type": "code",
   "execution_count": 2,
   "id": "23e2bffd",
   "metadata": {
    "ExecuteTime": {
     "end_time": "2023-01-26T15:41:24.983187Z",
     "start_time": "2023-01-26T15:41:23.115697Z"
    }
   },
   "outputs": [],
   "source": [
    "import os\n",
    "import sys\n",
    "import pandas as pd\n",
    "import numpy as np\n",
    "import matplotlib.pyplot as plt\n",
    "\n",
    "# used libraries\n",
    "import pandas as pd\n",
    "from sklearn import datasets\n",
    "from sklearn.model_selection import train_test_split\n",
    "from sklearn.svm import SVR\n",
    "\n",
    "sys.path.append(os.path.join('..', '..'))\n",
    "import pywinEA2 as pea\n",
    "\n",
    "pea.USE_NOTEBOOK_ENVIRONMENT = False"
   ]
  },
  {
   "cell_type": "code",
   "execution_count": 3,
   "id": "5fab5913",
   "metadata": {
    "ExecuteTime": {
     "end_time": "2023-01-26T15:41:25.172686Z",
     "start_time": "2023-01-26T15:41:25.078937Z"
    },
    "code_folding": [
     0
    ]
   },
   "outputs": [],
   "source": [
    "def getDataset() -> pd.DataFrame:\n",
    "    \"\"\" Create the testing dataset \"\"\"\n",
    "    X, y = datasets.make_friedman1(\n",
    "        n_samples=200,\n",
    "        n_features=90,\n",
    "        noise=0.5,\n",
    "        random_state=1997)\n",
    "    \n",
    "    X = pd.DataFrame(X, columns=['feat_{}'.format(f) for f in range(X.shape[1])])\n",
    "    y = pd.DataFrame(y, columns=['target'])\n",
    "    data = pd.concat([X, y], axis=1)\n",
    "    \n",
    "    return data"
   ]
  },
  {
   "cell_type": "code",
   "execution_count": 4,
   "id": "55a3d3e6",
   "metadata": {
    "ExecuteTime": {
     "end_time": "2023-01-26T15:41:25.283390Z",
     "start_time": "2023-01-26T15:41:25.173684Z"
    }
   },
   "outputs": [
    {
     "data": {
      "text/html": [
       "<div>\n",
       "<style scoped>\n",
       "    .dataframe tbody tr th:only-of-type {\n",
       "        vertical-align: middle;\n",
       "    }\n",
       "\n",
       "    .dataframe tbody tr th {\n",
       "        vertical-align: top;\n",
       "    }\n",
       "\n",
       "    .dataframe thead th {\n",
       "        text-align: right;\n",
       "    }\n",
       "</style>\n",
       "<table border=\"1\" class=\"dataframe\">\n",
       "  <thead>\n",
       "    <tr style=\"text-align: right;\">\n",
       "      <th></th>\n",
       "      <th>feat_0</th>\n",
       "      <th>feat_1</th>\n",
       "      <th>feat_2</th>\n",
       "      <th>feat_3</th>\n",
       "      <th>feat_4</th>\n",
       "      <th>feat_5</th>\n",
       "      <th>feat_6</th>\n",
       "      <th>feat_7</th>\n",
       "      <th>feat_8</th>\n",
       "      <th>feat_9</th>\n",
       "      <th>...</th>\n",
       "      <th>feat_81</th>\n",
       "      <th>feat_82</th>\n",
       "      <th>feat_83</th>\n",
       "      <th>feat_84</th>\n",
       "      <th>feat_85</th>\n",
       "      <th>feat_86</th>\n",
       "      <th>feat_87</th>\n",
       "      <th>feat_88</th>\n",
       "      <th>feat_89</th>\n",
       "      <th>target</th>\n",
       "    </tr>\n",
       "  </thead>\n",
       "  <tbody>\n",
       "    <tr>\n",
       "      <th>0</th>\n",
       "      <td>0.771148</td>\n",
       "      <td>0.074757</td>\n",
       "      <td>0.526310</td>\n",
       "      <td>0.975088</td>\n",
       "      <td>0.992226</td>\n",
       "      <td>0.465135</td>\n",
       "      <td>0.611135</td>\n",
       "      <td>0.569463</td>\n",
       "      <td>0.667719</td>\n",
       "      <td>0.786780</td>\n",
       "      <td>...</td>\n",
       "      <td>0.739056</td>\n",
       "      <td>0.189999</td>\n",
       "      <td>0.354658</td>\n",
       "      <td>0.213068</td>\n",
       "      <td>0.424554</td>\n",
       "      <td>0.320884</td>\n",
       "      <td>0.967451</td>\n",
       "      <td>0.063337</td>\n",
       "      <td>0.225850</td>\n",
       "      <td>16.864643</td>\n",
       "    </tr>\n",
       "    <tr>\n",
       "      <th>1</th>\n",
       "      <td>0.944677</td>\n",
       "      <td>0.166228</td>\n",
       "      <td>0.077853</td>\n",
       "      <td>0.717844</td>\n",
       "      <td>0.920020</td>\n",
       "      <td>0.615669</td>\n",
       "      <td>0.299287</td>\n",
       "      <td>0.847137</td>\n",
       "      <td>0.508283</td>\n",
       "      <td>0.131813</td>\n",
       "      <td>...</td>\n",
       "      <td>0.266088</td>\n",
       "      <td>0.491251</td>\n",
       "      <td>0.377104</td>\n",
       "      <td>0.265917</td>\n",
       "      <td>0.857921</td>\n",
       "      <td>0.914392</td>\n",
       "      <td>0.771561</td>\n",
       "      <td>0.187760</td>\n",
       "      <td>0.384997</td>\n",
       "      <td>20.389099</td>\n",
       "    </tr>\n",
       "    <tr>\n",
       "      <th>2</th>\n",
       "      <td>0.217790</td>\n",
       "      <td>0.972564</td>\n",
       "      <td>0.403189</td>\n",
       "      <td>0.872092</td>\n",
       "      <td>0.682622</td>\n",
       "      <td>0.445948</td>\n",
       "      <td>0.288469</td>\n",
       "      <td>0.761892</td>\n",
       "      <td>0.621428</td>\n",
       "      <td>0.208704</td>\n",
       "      <td>...</td>\n",
       "      <td>0.212825</td>\n",
       "      <td>0.341531</td>\n",
       "      <td>0.144842</td>\n",
       "      <td>0.435395</td>\n",
       "      <td>0.022645</td>\n",
       "      <td>0.667047</td>\n",
       "      <td>0.036734</td>\n",
       "      <td>0.655309</td>\n",
       "      <td>0.418235</td>\n",
       "      <td>18.261778</td>\n",
       "    </tr>\n",
       "    <tr>\n",
       "      <th>3</th>\n",
       "      <td>0.422399</td>\n",
       "      <td>0.438913</td>\n",
       "      <td>0.771213</td>\n",
       "      <td>0.502754</td>\n",
       "      <td>0.824081</td>\n",
       "      <td>0.200905</td>\n",
       "      <td>0.374775</td>\n",
       "      <td>0.723844</td>\n",
       "      <td>0.835281</td>\n",
       "      <td>0.951988</td>\n",
       "      <td>...</td>\n",
       "      <td>0.629061</td>\n",
       "      <td>0.112162</td>\n",
       "      <td>0.667163</td>\n",
       "      <td>0.303717</td>\n",
       "      <td>0.528023</td>\n",
       "      <td>0.122898</td>\n",
       "      <td>0.449646</td>\n",
       "      <td>0.511640</td>\n",
       "      <td>0.581908</td>\n",
       "      <td>15.298821</td>\n",
       "    </tr>\n",
       "    <tr>\n",
       "      <th>4</th>\n",
       "      <td>0.341653</td>\n",
       "      <td>0.076352</td>\n",
       "      <td>0.535166</td>\n",
       "      <td>0.679331</td>\n",
       "      <td>0.747861</td>\n",
       "      <td>0.665039</td>\n",
       "      <td>0.877723</td>\n",
       "      <td>0.025591</td>\n",
       "      <td>0.277263</td>\n",
       "      <td>0.648561</td>\n",
       "      <td>...</td>\n",
       "      <td>0.053892</td>\n",
       "      <td>0.553951</td>\n",
       "      <td>0.727013</td>\n",
       "      <td>0.407122</td>\n",
       "      <td>0.062515</td>\n",
       "      <td>0.518457</td>\n",
       "      <td>0.470395</td>\n",
       "      <td>0.892971</td>\n",
       "      <td>0.454677</td>\n",
       "      <td>11.989297</td>\n",
       "    </tr>\n",
       "  </tbody>\n",
       "</table>\n",
       "<p>5 rows × 91 columns</p>\n",
       "</div>"
      ],
      "text/plain": [
       "     feat_0    feat_1    feat_2    feat_3    feat_4    feat_5    feat_6  \\\n",
       "0  0.771148  0.074757  0.526310  0.975088  0.992226  0.465135  0.611135   \n",
       "1  0.944677  0.166228  0.077853  0.717844  0.920020  0.615669  0.299287   \n",
       "2  0.217790  0.972564  0.403189  0.872092  0.682622  0.445948  0.288469   \n",
       "3  0.422399  0.438913  0.771213  0.502754  0.824081  0.200905  0.374775   \n",
       "4  0.341653  0.076352  0.535166  0.679331  0.747861  0.665039  0.877723   \n",
       "\n",
       "     feat_7    feat_8    feat_9  ...   feat_81   feat_82   feat_83   feat_84  \\\n",
       "0  0.569463  0.667719  0.786780  ...  0.739056  0.189999  0.354658  0.213068   \n",
       "1  0.847137  0.508283  0.131813  ...  0.266088  0.491251  0.377104  0.265917   \n",
       "2  0.761892  0.621428  0.208704  ...  0.212825  0.341531  0.144842  0.435395   \n",
       "3  0.723844  0.835281  0.951988  ...  0.629061  0.112162  0.667163  0.303717   \n",
       "4  0.025591  0.277263  0.648561  ...  0.053892  0.553951  0.727013  0.407122   \n",
       "\n",
       "    feat_85   feat_86   feat_87   feat_88   feat_89     target  \n",
       "0  0.424554  0.320884  0.967451  0.063337  0.225850  16.864643  \n",
       "1  0.857921  0.914392  0.771561  0.187760  0.384997  20.389099  \n",
       "2  0.022645  0.667047  0.036734  0.655309  0.418235  18.261778  \n",
       "3  0.528023  0.122898  0.449646  0.511640  0.581908  15.298821  \n",
       "4  0.062515  0.518457  0.470395  0.892971  0.454677  11.989297  \n",
       "\n",
       "[5 rows x 91 columns]"
      ]
     },
     "execution_count": 4,
     "metadata": {},
     "output_type": "execute_result"
    }
   ],
   "source": [
    "data = getDataset()\n",
    "data.head(5)"
   ]
  },
  {
   "cell_type": "code",
   "execution_count": 5,
   "id": "b31af8e0-c638-4e1e-8a39-738815c97df6",
   "metadata": {},
   "outputs": [],
   "source": [
    "# create the model\n",
    "model = SVR()\n",
    "\n",
    "# create fitness function\n",
    "fitness_function = pea.fitness.FeatureSelectionFitness(\n",
    "    model=model,\n",
    "    score='mean_squared_error',\n",
    "    X=data[[c for c in data.columns if c.startswith('feat')]].values,\n",
    "    y=data['target'],\n",
    "    X_fixed=None,\n",
    "    cv=None,\n",
    "    n_jobs=1\n",
    ")"
   ]
  },
  {
   "cell_type": "code",
   "execution_count": null,
   "id": "f6f2848b-c484-445b-95c8-55420535ae79",
   "metadata": {},
   "outputs": [],
   "source": []
  },
  {
   "cell_type": "code",
   "execution_count": null,
   "id": "4281c792-7a99-4619-87bf-e5424e4a6060",
   "metadata": {},
   "outputs": [],
   "source": [
    "report = pea.pso.psoSimple(\n",
    "    population_size=500,\n",
    "    fitness_function=fitness_function,\n",
    "    max_iterations=100,\n",
    "    pso_evaluation='binary',\n",
    "    pso_evaluation_kw=dict(\n",
    "        invert_objective=True, \n",
    "        threshold=0.7,\n",
    "        n_jobs=15\n",
    "    ),\n",
    "    pso_reference_update='simple',\n",
    "    particle_update='simple',\n",
    "    particle_update_kw=dict(\n",
    "        inertia=0.2,\n",
    "        acc_const1=0.1,\n",
    "        acc_const2=0.2,\n",
    "        clip_values=(0, 1)\n",
    "    ),\n",
    "    particle_init_position='random',\n",
    "    particle_init_speed='random',\n",
    "    report=pea.pso.PSOReport(['min', 'max', 'mean', 'std']),\n",
    "    verbose=True,\n",
    "    seed=1997\n",
    "    \n",
    "    \n",
    ")"
   ]
  },
  {
   "cell_type": "code",
   "execution_count": null,
   "id": "9b4cec11-48ff-431d-b1ac-bbe699d5f01f",
   "metadata": {},
   "outputs": [],
   "source": [
    "report.displayConvergence()"
   ]
  },
  {
   "cell_type": "code",
   "execution_count": null,
   "id": "2540cc25-39a0-42f8-8868-2c5053f48123",
   "metadata": {},
   "outputs": [],
   "source": [
    "data[[c for c in data.columns if c.startswith('feat')]].iloc[:, report.particles[0].gbest > 0.7]"
   ]
  },
  {
   "cell_type": "code",
   "execution_count": 7,
   "id": "14114ba6-9d87-456b-8dd8-2d3fd47314ea",
   "metadata": {},
   "outputs": [
    {
     "name": "stderr",
     "output_type": "stream",
     "text": [
      "100%|█████████████████████████████████████████████████████████████| 200/200 [00:29<00:00,  6.79it/s]\n"
     ]
    }
   ],
   "source": [
    "report2, features = pea.pso.vlpso(\n",
    "    population_size=100,\n",
    "    num_population_div=5,\n",
    "    fitness_function=fitness_function,\n",
    "    max_iterations=200,\n",
    "    rank_function='mutualInformationImportance',\n",
    "    rank_function_kw=dict(task='r'),\n",
    "    alpha=10,\n",
    "    beta=25,\n",
    "    pso_evaluation='binary',\n",
    "    pso_evaluation_kw=dict(\n",
    "        invert_objective=True, \n",
    "        threshold=0.0,\n",
    "        n_jobs=15\n",
    "    ),\n",
    "    pso_reference_update='simple',\n",
    "    particle_update_kw=dict(\n",
    "        inertia=0.2,\n",
    "        acc_const1=0.2,\n",
    "        acc_const2=0.1,\n",
    "        clip_values=(-1, 2)\n",
    "    ),\n",
    "    particle_init_position='random',\n",
    "    particle_init_position_kw=dict(bounds=(-1, 1)),\n",
    "    particle_init_speed='random',\n",
    "    report=pea.pso.PSOReport(['min', 'max', 'mean', 'std']),\n",
    "    verbose=True,\n",
    "    seed=1997\n",
    ")"
   ]
  },
  {
   "cell_type": "code",
   "execution_count": 8,
   "id": "7da9eb50-33b9-4202-8ba3-ae34bbdedc46",
   "metadata": {},
   "outputs": [
    {
     "data": {
      "image/png": "[encoded data removed]",
      "text/plain": [
       "<Figure size 700x400 with 1 Axes>"
      ]
     },
     "metadata": {},
     "output_type": "display_data"
    }
   ],
   "source": [
    "report2.displayConvergence()"
   ]
  },
  {
   "cell_type": "code",
   "execution_count": 10,
   "id": "695a1c65-6357-4493-9445-7ef55823a2ef",
   "metadata": {},
   "outputs": [
    {
     "data": {
      "text/plain": [
       "array(['feat_3', 'feat_4', 'feat_9', 'feat_0', 'feat_2', 'feat_20',\n",
       "       'feat_72', 'feat_34', 'feat_1', 'feat_67'], dtype='<U7')"
      ]
     },
     "execution_count": 10,
     "metadata": {},
     "output_type": "execute_result"
    }
   ],
   "source": [
    "np.array(features[:len(report2.particles[0].gbest)])[report2.particles[0].gbest > 0.0]"
   ]
  },
  {
   "cell_type": "code",
   "execution_count": null,
   "id": "27500f61-8206-49c7-81fa-28033e3a72ad",
   "metadata": {},
   "outputs": [],
   "source": []
  },
  {
   "cell_type": "code",
   "execution_count": null,
   "id": "4dff26f2-6af2-4432-b6b7-4610346ff9ca",
   "metadata": {},
   "outputs": [],
   "source": []
  },
  {
   "cell_type": "code",
   "execution_count": null,
   "id": "bd1d50cd-263d-4c64-9f19-53ecd2a03734",
   "metadata": {},
   "outputs": [],
   "source": []
  },
  {
   "cell_type": "code",
   "execution_count": null,
   "id": "94190366-2222-4f1d-858a-6d078499c84e",
   "metadata": {},
   "outputs": [],
   "source": []
  },
  {
   "cell_type": "code",
   "execution_count": null,
   "id": "1b531f7e-ed69-4c95-9f21-3646a31a8ec1",
   "metadata": {},
   "outputs": [],
   "source": []
  },
  {
   "cell_type": "code",
   "execution_count": null,
   "id": "e5d5551e-b3c7-4f06-8f52-a8d701e42625",
   "metadata": {},
   "outputs": [],
   "source": []
  },
  {
   "cell_type": "code",
   "execution_count": null,
   "id": "cffe528e-cb87-4bd1-9988-62dc5b578931",
   "metadata": {},
   "outputs": [],
   "source": []
  },
  {
   "cell_type": "code",
   "execution_count": null,
   "id": "fd09af8b-ce7c-47ce-858c-a3b6574dabeb",
   "metadata": {},
   "outputs": [],
   "source": []
  },
  {
   "cell_type": "code",
   "execution_count": null,
   "id": "8e6d28e1-6b4f-4c09-b82f-9d6a289ae390",
   "metadata": {},
   "outputs": [],
   "source": []
  },
  {
   "cell_type": "code",
   "execution_count": null,
   "id": "30e6161a-19b3-4b6f-ae69-b959214c3aee",
   "metadata": {},
   "outputs": [],
   "source": []
  },
  {
   "cell_type": "code",
   "execution_count": null,
   "id": "cae8d4ee-9dd9-4916-82d7-2e5f934f5bec",
   "metadata": {},
   "outputs": [],
   "source": []
  }
 ],
 "metadata": {
  "kernelspec": {
   "display_name": "Python 3 (ipykernel)",
   "language": "python",
   "name": "python3"
  },
  "language_info": {
   "codemirror_mode": {
    "name": "ipython",
    "version": 3
   },
   "file_extension": ".py",
   "mimetype": "text/x-python",
   "name": "python",
   "nbconvert_exporter": "python",
   "pygments_lexer": "ipython3",
   "version": "3.9.13"
  },
  "toc": {
   "base_numbering": 1,
   "nav_menu": {},
   "number_sections": true,
   "sideBar": true,
   "skip_h1_title": false,
   "title_cell": "Table of Contents",
   "title_sidebar": "Contents",
   "toc_cell": false,
   "toc_position": {},
   "toc_section_display": true,
   "toc_window_display": false
  }
 },
 "nbformat": 4,
 "nbformat_minor": 5
}
